{
 "cells": [
  {
   "cell_type": "markdown",
   "metadata": {
    "deletable": true,
    "editable": true
   },
   "source": [
    "# Coursework Part 1: Detecting Spam with Spark\n",
    "\n",
    "IN432 Big Data coursework 2017, part 1. Classifying messages to detect spam.\n"
   ]
  },
  {
   "cell_type": "markdown",
   "metadata": {
    "deletable": true,
    "editable": true
   },
   "source": [
    "## Task a) & b) Read some files and prepare a (f,w) RDD \n",
    "a) Start by reading the directory with text files from the distributed file system (e.g. `hdfs://saltdean.nsqdc.city.ac.uk./data/spam/bare/part1`), and loading all text files using wholeTextFiles(), which loads the text per file, i.e. tuples (f,t). (5%)\n",
    "\n",
    "b) Split the text into words (lower case), creating a (file,word) RDD. (10%)\n",
    "\n",
    "For both tasks you can use the code from the labs. Don't remove finals 's' (we have already lemmatised data to work with later). \n",
    "\n",
    "It is very useful to pack the code into a function that takes a directory as an argument and returns an RDD with (f,w) structure, e.g. `read_fw_RDD`.\n",
    "\n",
    "Please write two lines of code at the end of the cell that run a little example and print some output. You can comment them out after you have verified that your code works. "
   ]
  },
  {
   "cell_type": "code",
   "execution_count": 1,
   "metadata": {
    "collapsed": false,
    "deletable": true,
    "editable": true
   },
   "outputs": [
    {
     "name": "stdout",
     "output_type": "stream",
     "text": [
      "[('file:/data/tempstore/spam/bare/part1/3-437msg3.txt', 'subject'), ('file:/data/tempstore/spam/bare/part1/3-437msg3.txt', 'becoming'), ('file:/data/tempstore/spam/bare/part1/3-437msg3.txt', 'a')]\n"
     ]
    }
   ],
   "source": [
    "import re \n",
    "from operator import add\n",
    "#prefix = 'hdfs://saltdean.nsqdc.city.ac.uk/data/'\n",
    "\n",
    "prefix = '/data/tempstore/'\n",
    "dirPath = prefix + 'spam/bare/part1'\n",
    "\n",
    "# Function that take a directory in argument, read the files in that directory and create an RDD file by splitting the words and making them lower case\n",
    "def read_fw_RDD( argDir ): # package tasks a/b into a function for later use\n",
    "    ft_RDD = sc.wholeTextFiles(argDir) #<<< task a) read the files\n",
    "    #print('Read {} files from directory {}'.format(<no of files>,argDir)) # status message for testing, can be disabled later on\n",
    "    #print('file word count histogram') # the histogram can be useful for checking later \n",
    "    #print(fwL_RDD.map(lambda fwL: (len(fwL[1]))).histogram([0,10,100,1000,10000]))\n",
    "    fw_RDD = ft_RDD.flatMap(lambda fc: [(fc[0],w.lower()) for w in re.split('\\W+',fc[1])]) #<<< task b) split words\n",
    "    return fw_RDD #,fw_RDD\n",
    "\n",
    "fw_RDD = read_fw_RDD(dirPath) # for testing\n",
    "print(fw_RDD.take(3)) # for testing"
   ]
  },
  {
   "cell_type": "markdown",
   "metadata": {
    "deletable": true,
    "editable": true
   },
   "source": [
    "## Task c) Normalised word count lists\n",
    "Use the code from the labs to generate the \\texttt{[(word,count), ...]} list per file and to create a word frequency vector. \n",
    "\n",
    "Normalise the term frequency (TF) vector by the total word count per file. (15\\%)\n",
    "\n",
    "This is mostly reusing the lab code. The interesting part here is the normalisation. For normalisation we need to total word count per file. You can use a nested list comprehension for this (go through the (w,c) list and divide each c by the sum of all c, which you can get with a list). \n",
    "\n",
    "Another option is to use a separate RDD with (f,twc), where 'twc' is for total word count, and which you can create from the (f,[(w,c), ... ]) RDD. This new RDD can then be joined with the (f,[(w,c), ... ]) RDD and then the (w,c) list be normalised in a list comprehension. \n",
    "\n",
    "It would actually be more efficient to do the word counting when you split the words, but that would mix the tasks too much, so please don't do that in your coursework submission.\n",
    "\n",
    "Again, put your code into a function, and add a short test that can be commented out."
   ]
  },
  {
   "cell_type": "code",
   "execution_count": 12,
   "metadata": {
    "collapsed": false,
    "deletable": true,
    "editable": true
   },
   "outputs": [
    {
     "name": "stdout",
     "output_type": "stream",
     "text": [
      "[['file:/data/tempstore/spam/bare/part5/9-1220msg1.txt', [('washington', 0.0012853470437017994), ('paper', 0.002570694087403599), ('written', 0.0012853470437017994), ('advanced', 0.0012853470437017994), ('be', 0.002570694087403599), ('reconstruct', 0.0012853470437017994), ('she', 0.0012853470437017994), ('by', 0.005141388174807198), ('actors', 0.0012853470437017994), ('grammaticalization', 0.002570694087403599), ('2', 0.0012853470437017994), ('15', 0.0012853470437017994), ('u', 0.0012853470437017994), ('english', 0.0038560411311053984), ('among', 0.0012853470437017994), ('show', 0.0012853470437017994), ('later', 0.0012853470437017994), ('carolyn', 0.0012853470437017994), ('argue', 0.0012853470437017994), ('differently', 0.0012853470437017994), ('halftones', 0.002570694087403599), ('expressed', 0.0012853470437017994), ('to', 0.012853470437017995), ('examining', 0.0012853470437017994), ('goffman', 0.0012853470437017994), ('5', 0.0012853470437017994), ('volume', 0.0012853470437017994), ('text', 0.0012853470437017994), ('control', 0.0012853470437017994), ('information', 0.0012853470437017994), ('85', 0.0012853470437017994), ('laws', 0.0012853470437017994), ('509893', 0.0012853470437017994), ('1998', 0.005141388174807198), ('a', 0.014138817480719794), ('communicative', 0.002570694087403599), ('their', 0.002570694087403599), ('assimilated', 0.0012853470437017994), ('press', 0.006426735218508998), ('relationship', 0.0012853470437017994), ('perspectives', 0.0012853470437017994), ('rice', 0.0012853470437017994), ('defining', 0.0012853470437017994), ('http', 0.0012853470437017994), ('our', 0.002570694087403599), ('too', 0.0012853470437017994), ('00', 0.005141388174807198), ('case', 0.0012853470437017994), ('that', 0.007712082262210797), ('role', 0.002570694087403599), ('naturally', 0.0012853470437017994), ('m', 0.0012853470437017994), ('dynamic', 0.0012853470437017994), ('tannen', 0.0012853470437017994), ('bounded', 0.0012853470437017994), ('present', 0.002570694087403599), ('aims', 0.0012853470437017994), ('ideologies', 0.0012853470437017994), ('hymes', 0.0012853470437017994), ('create', 0.0012853470437017994), ('and', 0.02956298200514139), ('context', 0.0012853470437017994), ('wide', 0.0012853470437017994), ('has', 0.005141388174807198), ('focuses', 0.0012853470437017994), ('web', 0.0012853470437017994), ('answer', 0.0012853470437017994), ('judge', 0.0012853470437017994), ('according', 0.0012853470437017994), ('early', 0.0012853470437017994), ('south', 0.0038560411311053984), ('it', 0.0012853470437017994), ('display', 0.0012853470437017994), ('59', 0.0012853470437017994), ('linguistic', 0.002570694087403599), ('with', 0.006426735218508998), ('also', 0.0012853470437017994), ('morphosyntax', 0.0012853470437017994), ('older', 0.0012853470437017994), ('kids', 0.0012853470437017994), ('diversity', 0.0012853470437017994), ('managing', 0.0012853470437017994), ('which', 0.002570694087403599), ('577444', 0.0012853470437017994), ('criminal', 0.0012853470437017994), ('increasing', 0.0012853470437017994), ('talk', 0.0038560411311053984), ('first', 0.002570694087403599), ('time', 0.0012853470437017994), ('35', 0.0012853470437017994), ('largely', 0.0012853470437017994), ('denied', 0.0012853470437017994), ('will', 0.005141388174807198), ('shows', 0.0012853470437017994), ('acquisition', 0.0012853470437017994), ('chapters', 0.0012853470437017994), ('repertoire', 0.0012853470437017994), ('genres', 0.0012853470437017994), ('variation', 0.0012853470437017994), ('most', 0.0012853470437017994), ('sensitivity', 0.0012853470437017994), ('cloth', 0.002570694087403599), ('from', 0.006426735218508998), ('312', 0.0012853470437017994), ('methodology', 0.0012853470437017994), ('linguistics', 0.007712082262210797), ('7', 0.0012853470437017994), ('how', 0.006426735218508998), ('constructs', 0.0012853470437017994), ('growing', 0.002570694087403599), ('37', 0.0012853470437017994), ('such', 0.0012853470437017994), ('3', 0.0012853470437017994), ('between', 0.002570694087403599), ('oup', 0.002570694087403599), ('often', 0.002570694087403599), ('theory', 0.0012853470437017994), ('skills', 0.0012853470437017994), ('containing', 0.0012853470437017994), ('structure', 0.0038560411311053984), ('differing', 0.0012853470437017994), ('its', 0.0012853470437017994), ('guilty', 0.002570694087403599), ('spike', 0.002570694087403599), ('standing', 0.0012853470437017994), ('range', 0.0012853470437017994), ('adulthood', 0.002570694087403599), ('75', 0.0012853470437017994), ('those', 0.002570694087403599), ('study', 0.0038560411311053984), ('september', 0.0038560411311053984), ('contribute', 0.0012853470437017994), ('second', 0.0012853470437017994), ('practice', 0.0012853470437017994), ('arizona', 0.0012853470437017994), ('deborah', 0.0012853470437017994), ('realities', 0.0012853470437017994), ('occurring', 0.002570694087403599), ('analyze', 0.0012853470437017994), ('important', 0.0012853470437017994), ('recorded', 0.0012853470437017994), ('ordering', 0.0012853470437017994), ('511341', 0.0012853470437017994), ('18', 0.0012853470437017994), ('can', 0.002570694087403599), ('mail', 0.0012853470437017994), ('pedagogical', 0.0012853470437017994), ('adults', 0.0012853470437017994), ('american', 0.0012853470437017994), ('x', 0.0012853470437017994), ('for', 0.005141388174807198), ('oxforduniversity', 0.0012853470437017994), ('oxford', 0.010282776349614395), ('ability', 0.0012853470437017994), ('linguists', 0.002570694087403599), ('given', 0.0012853470437017994), ('on', 0.008997429305912597), ('224', 0.0012853470437017994), ('who', 0.002570694087403599), ('gildea', 0.002570694087403599), ('susan', 0.0038560411311053984), ('well', 0.002570694087403599), ('ideology', 0.0038560411311053984), ('age', 0.0012853470437017994), ('children', 0.002570694087403599), ('historical', 0.002570694087403599), ('users', 0.0012853470437017994), ('achievement', 0.0012853470437017994), ('languages', 0.002570694087403599), ('while', 0.0012853470437017994), ('or', 0.0038560411311053984), ('people', 0.0012853470437017994), ('play', 0.002570694087403599), ('multilingual', 0.0012853470437017994), ('teenagers', 0.0012853470437017994), ('reader', 0.0012853470437017994), ('examines', 0.0012853470437017994), ('pakistani', 0.0012853470437017994), ('temple', 0.0012853470437017994), ('e', 0.0012853470437017994), ('pakistan', 0.0038560411311053984), ('expanding', 0.0012853470437017994), ('data', 0.0012853470437017994), ('the', 0.04627249357326478), ('through', 0.0038560411311053984), ('framing', 0.0012853470437017994), ('features', 0.0012853470437017994), ('georgetown', 0.0012853470437017994), ('about', 0.002570694087403599), ('detailed', 0.0012853470437017994), ('succeeded', 0.0012853470437017994), ('any', 0.0012853470437017994), ('national', 0.0012853470437017994), ('concerned', 0.002570694087403599), ('pp', 0.005141388174807198), ('what', 0.0012853470437017994), ('95', 0.002570694087403599), ('6', 0.0012853470437017994), ('together', 0.0012853470437017994), ('traditions', 0.0012853470437017994), ('character', 0.0012853470437017994), ('method', 0.0012853470437017994), ('more', 0.0012853470437017994), ('way', 0.0012853470437017994), ('major', 0.0012853470437017994), ('childhood', 0.002570694087403599), ('s', 0.0038560411311053984), ('language', 0.021850899742930592), ('hoyle', 0.0012853470437017994), ('footing', 0.0012853470437017994), ('work', 0.0012853470437017994), ('peer', 0.0012853470437017994), ('university', 0.008997429305912597), ('510952', 0.0012853470437017994), ('take', 0.0012853470437017994), ('of', 0.03598971722365039), ('theoretical', 0.0012853470437017994), ('17', 0.0012853470437017994), ('quickly', 0.0012853470437017994), ('process', 0.0012853470437017994), ('argues', 0.0012853470437017994), ('sophisticated', 0.0012853470437017994), ('two', 0.0012853470437017994), ('where', 0.0012853470437017994), ('proper', 0.0012853470437017994), ('society', 0.0012853470437017994), ('center', 0.0012853470437017994), ('views', 0.0012853470437017994), ('politics', 0.0012853470437017994), ('_', 0.07326478149100257), ('brings', 0.0012853470437017994), ('ideological', 0.002570694087403599), ('group', 0.002570694087403599), ('org', 0.002570694087403599), ('significantly', 0.0012853470437017994), ('at', 0.006426735218508998), ('behavior', 0.0012853470437017994), ('interviews', 0.0012853470437017994), ('do', 0.0012853470437017994), ('interested', 0.0012853470437017994), ('10', 0.0012853470437017994), ('book', 0.0038560411311053984), ('site', 0.0012853470437017994), ('applied', 0.0012853470437017994), ('interpretations', 0.0012853470437017994), ('impossible', 0.0012853470437017994), ('robert', 0.0012853470437017994), ('literatures', 0.0012853470437017994), ('using', 0.0012853470437017994), ('discourse', 0.007712082262210797), ('proficiency', 0.0012853470437017994), ('groups', 0.0012853470437017994), ('careful', 0.0012853470437017994), ('different', 0.0012853470437017994), ('enactments', 0.0012853470437017994), ('sociological', 0.0012853470437017994), ('yet', 0.002570694087403599), ('usa', 0.0038560411311053984), ('is', 0.005141388174807198), ('observation', 0.0012853470437017994), ('use', 0.006426735218508998), ('law', 0.002570694087403599), ('distinctive', 0.0012853470437017994), ('pleas', 0.002570694087403599), ('notion', 0.0012853470437017994), ('asian', 0.0012853470437017994), ('essays', 0.0012853470437017994), ('anthropological', 0.0038560411311053984), ('school', 0.002570694087403599), ('characterizations', 0.0012853470437017994), ('sophistication', 0.0012853470437017994), ('struggles', 0.0012853470437017994), ('bloom', 0.0012853470437017994), ('presage', 0.0012853470437017994), ('working', 0.0012853470437017994), ('reflect', 0.0012853470437017994), ('baumgardner', 0.0012853470437017994), ('interaction', 0.002570694087403599), ('just', 0.0012853470437017994), ('findings', 0.002570694087403599), ('far', 0.0012853470437017994), ('proto', 0.0012853470437017994), ('always', 0.0012853470437017994), ('focusing', 0.0012853470437017994), ('relation', 0.0012853470437017994), ('central', 0.0012853470437017994), ('www', 0.0012853470437017994), ('appeal', 0.002570694087403599), ('socially', 0.0012853470437017994), ('medicine', 0.0012853470437017994), ('interesting', 0.0012853470437017994), ('visit', 0.0012853470437017994), ('understood', 0.0012853470437017994), ('reconstruction', 0.0012853470437017994), ('344', 0.0012853470437017994), ('29', 0.002570694087403599), ('19', 0.007712082262210797), ('dc', 0.0012853470437017994), ('judges', 0.007712082262210797), ('diverse', 0.0012853470437017994), ('j', 0.0012853470437017994), ('own', 0.0012853470437017994), ('are', 0.0038560411311053984), ('give', 0.0012853470437017994), ('509892', 0.0012853470437017994), ('reveals', 0.0012853470437017994), ('studies', 0.0038560411311053984), ('young', 0.002570694087403599), ('professional', 0.0012853470437017994), ('cariban', 0.002570694087403599), ('activities', 0.002570694087403599), ('spoken', 0.0012853470437017994), ('america', 0.0012853470437017994), ('speech', 0.002570694087403599), ('304', 0.0012853470437017994), ('technical', 0.0012853470437017994), ('descriptive', 0.0012853470437017994), ('reconstructing', 0.0012853470437017994), ('strategic', 0.0038560411311053984), ('comparative', 0.002570694087403599), ('syntactic', 0.0012853470437017994), ('sociolinguistics', 0.002570694087403599), ('new', 0.0012853470437017994), ('interest', 0.0012853470437017994), ('0', 0.007712082262210797), ('best', 0.0012853470437017994), ('legal', 0.0038560411311053984), ('multicultural', 0.0012853470437017994), ('as', 0.010282776349614395), ('power', 0.0012853470437017994), ('home', 0.0012853470437017994), ('used', 0.0012853470437017994), ('an', 0.0038560411311053984), ('511340', 0.0012853470437017994), ('family', 0.0012853470437017994), ('contributors', 0.002570694087403599), ('edited', 0.002570694087403599), ('titles', 0.0012853470437017994), ('demonstrates', 0.0012853470437017994), ('long', 0.0012853470437017994), ('due', 0.0012853470437017994), ('april', 0.0012853470437017994), ('themselves', 0.002570694087403599), ('practices', 0.0012853470437017994), ('philips', 0.002570694087403599), ('hidden', 0.0012853470437017994), ('speakers', 0.002570694087403599), ('documenting', 0.0012853470437017994), ('include', 0.0012853470437017994), ('', 0.0012853470437017994), ('masterful', 0.0012853470437017994), ('grammar', 0.0038560411311053984), ('defendants', 0.0012853470437017994), ('this', 0.006426735218508998), ('point', 0.0012853470437017994), ('questions', 0.0012853470437017994), ('subject', 0.0012853470437017994), ('1', 0.0012853470437017994), ('wield', 0.0012853470437017994), ('adger', 0.0012853470437017994), ('in', 0.028277634961439587), ('become', 0.0012853470437017994), ('linecuts', 0.0038560411311053984), ('library', 0.0012853470437017994), ('both', 0.0012853470437017994), ('competence', 0.0012853470437017994), ('courtroom', 0.005141388174807198), ('multiple', 0.0012853470437017994), ('functional', 0.0012853470437017994), ('typologically', 0.0012853470437017994)]]]\n",
      "0.9999999999999967\n"
     ]
    }
   ],
   "source": [
    "from operator import add\n",
    "\n",
    "#Function that sum all the word counts and then divide each count by this total which makes the normalization\n",
    "#takes in arguments a list of tuples (w,c)\n",
    "def norm(fw_RDD): \n",
    "    total = 0\n",
    "    for (w,c) in fw_RDD:\n",
    "        total += c     \n",
    "    return [(w,c/total) for w,c in fw_RDD]\n",
    "          \n",
    "def reGrpLst(fw_c): # reorganise the tuples\n",
    "    fw, c = fw_c \n",
    "    f,w = fw\n",
    "    return (f,[(w,c)])\n",
    "\n",
    "#takes in argument a directory and return an object with the structure [[f,[(w,c),(w,c)...]],[f,[(w,c)...]]] with the word counts normalized\n",
    "def make_f_tfLn_RDD(argDir): \n",
    "    fw_RDD = read_fw_RDD( argDir ) # call function from task a & b\n",
    "    fw_1_RDD = fw_RDD.map(lambda x: (x,1))\n",
    "    f_wc2_RDD = fw_1_RDD.reduceByKey(add) # map and reduce in the RDD file\n",
    "    f_wcL_RDD = f_wc2_RDD.map(reGrpLst)  # reorganise the tuples using the reGrpLst function\n",
    "    f_wcL2_RDD = f_wcL_RDD.reduceByKey(add) \n",
    "    f_wcLn_RDD = f_wcL2_RDD.map(lambda f_wcL: [f_wcL[0], norm(f_wcL[1])]) #<<< and normalise by applying the normalization function for each file \n",
    "    return f_wcLn_RDD\n",
    "\n",
    "f_wcLn_RDD = make_f_tfLn_RDD(prefix + 'spam/bare/part5') # for testing\n",
    "print(f_wcLn_RDD.take(1)) # for testing\n",
    "wcLn = f_wcLn_RDD.take(1)[0][1] # get the first normalised word count list\n",
    "print(sum([cn for (w,cn) in wcLn])) # the sum of normalised counts should be close to 1 "
   ]
  },
  {
   "cell_type": "markdown",
   "metadata": {
    "deletable": true,
    "editable": true
   },
   "source": [
    "## Task d) Creating hashed feature vectors \n",
    "Use the hashing trick to create fixed size TF vectors. (10%)\n",
    "\n",
    "Use the code from the week 2 lecture to create the hash vectors.\n",
    "\n",
    "As before, make it a function and add a short test."
   ]
  },
  {
   "cell_type": "code",
   "execution_count": 21,
   "metadata": {
    "collapsed": false,
    "deletable": true,
    "editable": true
   },
   "outputs": [
    {
     "name": "stdout",
     "output_type": "stream",
     "text": [
      "[0.1953727506426738, 0.10025706940874031, 0.09254498714652953, 0.08226221079691513, 0.06041131105398455, 0.08868894601542412, 0.08483290488431872, 0.12596401028277632, 0.06041131105398456, 0.1092544987146529]\n",
      "0.9999999999999998\n"
     ]
    }
   ],
   "source": [
    "def hashing_vectorizer(word_count_list, N):\n",
    "     v = [0] * N  # create fixed size vector of 0s\n",
    "     for word_count in word_count_list: \u000b",
    "         word,count = word_count \t# unpack tuple\n",
    "         h = hash(word) \t\t# get hash value\n",
    "         v[h % N] = v[h % N] + count # add count\n",
    "     return v \t# return hashed word vector\n",
    "\n",
    "#Takes for arguments a directory and an integer which defines the size of the hash vector\n",
    "#Apply the hash function for each word count list\n",
    "#Return a hash vector\n",
    "def make_f_wVn_RDD(f_wcLn_RDD, argN):\n",
    "    f_wVec_RDD = f_wcLn_RDD.map(lambda f_wc: (f_wc[0],hashing_vectorizer(f_wc[1],N)))\n",
    "    return f_wVec_RDD\n",
    "    \n",
    "N=10\n",
    "f_wVn_RDD = make_f_wVn_RDD(make_f_tfLn_RDD(dirPath),N) # for testing\n",
    "print(f_wVn_RDD.take(1)[0][1]) # for testing\n",
    "print( sum(f_wVn_RDD.take(1)[0][1])) # for testing"
   ]
  },
  {
   "cell_type": "markdown",
   "metadata": {
    "deletable": true,
    "editable": true
   },
   "source": [
    "## Task e) Create Labeled Points\n",
    "\n",
    "Determine whether the file is spam (i.e. the filename contains ’spmsg’) and replace the filename by a 1 (spam) or 0 (ham) accordingly. Use map() to create an RDD of LabeledPoint objects. \n",
    "\n",
    "See here [http://spark.apache.org/docs/2.0.0/ml-classification-regression.html#logistic-regression](http://spark.apache.org/docs/2.0.0/ml-classification-regression.html#logistic-regression) for an example, and here [http://spark.apache.org/docs/2.0.0/api/python/pyspark.mllib.html#pyspark.mllib.regression.LabeledPoint](http://spark.apache.org/docs/2.0.0/api/python/pyspark.mllib.html#pyspark.mllib.regression.LabeledPoint) for the `LabeledPoint` documentation. (15%)\n",
    "\n",
    "It's useful to take the RDD with normalised word lists as input. \n",
    "\n",
    "For finding the spam messages use `re.search()` see here[https://docs.python.org/3/library/re.html?highlight=re%20search#re.search](https://docs.python.org/3/library/re.html?highlight=re%20search#re.search) for documentation. Search for 'spmsg' in the filename and check whether the result is `None`. The relevan syntax here is <b>`0 if <yourCondition> else 1`</b>, i.e. 0 if 'spmsg' is not in the filename (not spam) and 1 if it is (it's spam)."
   ]
  },
  {
   "cell_type": "code",
   "execution_count": 24,
   "metadata": {
    "collapsed": false,
    "deletable": true,
    "editable": true
   },
   "outputs": [
    {
     "name": "stdout",
     "output_type": "stream",
     "text": [
      "[LabeledPoint(0.0, [0.195372750643,0.100257069409,0.0925449871465,0.0822622107969,0.060411311054,0.0886889460154,0.0848329048843,0.125964010283,0.060411311054,0.109254498715]), LabeledPoint(0.0, [0.111471861472,0.101731601732,0.0984848484848,0.108225108225,0.0854978354978,0.135281385281,0.0887445887446,0.115800865801,0.0703463203463,0.0844155844156]), LabeledPoint(0.0, [0.132450331126,0.12582781457,0.0827814569536,0.105960264901,0.0761589403974,0.0794701986755,0.0662251655629,0.162251655629,0.046357615894,0.122516556291])]\n"
     ]
    }
   ],
   "source": [
    "from pyspark.mllib.regression import LabeledPoint\n",
    "\n",
    "#Function that returns a labelpoint that shows if a file is a spam (1) or not (0) and also shows the hashing vector associated at each file\n",
    "def make_lp_RDD(f_tfLn_RDD,argN):\n",
    "    f_wVn_RDD = make_f_wVn_RDD(f_tfLn_RDD, argN)\n",
    "    lp_RDD = f_wVn_RDD.map(lambda f_wVn_RDD: LabeledPoint(1 if re.search('spmsg',f_wVn_RDD[0]) else 0,f_wVn_RDD[1]))\n",
    "    return lp_RDD\n",
    "\n",
    "lp_RDD = make_lp_RDD(make_f_tfLn_RDD('hdfs://saltdean.nsqdc.city.ac.uk./data/spam/bare/part1'),10)\n",
    "print(lp_RDD.take(3))"
   ]
  },
  {
   "cell_type": "markdown",
   "metadata": {
    "deletable": true,
    "editable": true
   },
   "source": [
    "## Task f) Train a classifier \n",
    "\n",
    "Use the `LabeledPoint` objects to train the `LogisticRegression` and calculate the accuracy of the model on the training set (again, follow this example [http://spark.apache.org/docs/2.0.0/ml-classification-regression.html#logistic-regression](http://spark.apache.org/docs/2.0.0/ml-classification-regression.html#logistic-regression) and here is the documentation [http://spark.apache.org/docs/2.0.0/api/python/pyspark.mllib.html#pyspark.mllib.classification.LogisticRegressionWithLBFGS](http://spark.apache.org/docs/2.0.0/api/python/pyspark.mllib.html#pyspark.mllib.classification.LogisticRegressionWithLBFGS).  (15%) \n",
    "\n",
    "It's useful to start with a normalised word list as input again (because we can later also use it with TF.IDF values).  "
   ]
  },
  {
   "cell_type": "code",
   "execution_count": 26,
   "metadata": {
    "collapsed": false,
    "deletable": true,
    "editable": true
   },
   "outputs": [
    {
     "name": "stdout",
     "output_type": "stream",
     "text": [
      "training data items: 290, correct: 246\n",
      "training accuracy 84.8%\n"
     ]
    }
   ],
   "source": [
    "from pyspark.mllib.classification import LogisticRegressionWithLBFGS, NaiveBayes\n",
    "from pyspark.mllib.util import MLUtils\n",
    "\n",
    "path = prefix + 'spam/stop/part1'\n",
    "\n",
    "#Function that train a model on the [[f[(w,c)...]],...] file to predict the spam files using logistic regression\n",
    "def trainModel(f_wcL_RDD,N):\n",
    "    lp_RDD = make_lp_RDD(f_wcL_RDD,N)\n",
    "    model = LogisticRegressionWithLBFGS.train(lp_RDD) # create the model using the labelpoint and logistic regression method\n",
    "    predict = lp_RDD.map(lambda x: (x.label, model.predict(x.features))) #make the prediction\n",
    "    correct = predict.filter(lambda x: x[0] == x[1]).count() # calculate the number of values well predicted\n",
    "    accuracy = correct / predict.count() #calculate the percentage of accuracy\n",
    "    print('training data items: {}, correct: {}'.format(predict.count(), correct)) # output raw numbers\n",
    "    print('training accuracy {:.1%}'.format(accuracy)) # and accuracy\n",
    "    return model \n",
    "\n",
    "f_wcLn_RDD = make_f_tfLn_RDD(path) # for testing\n",
    "model = trainModel(f_wcLn_RDD,N) # for testing"
   ]
  },
  {
   "cell_type": "markdown",
   "metadata": {
    "collapsed": true,
    "deletable": true,
    "editable": true
   },
   "source": [
    "## Task g) Test the classifier\n",
    "\n",
    "Use the files from \\texttt{.../data/extra/spam/bare/part10} and prepare them like in task~a)-e) (use the function you created in task e) and before. Then use the trained model to predict the label for each vector you have and compare it to the original to test the performance of your classifier. (10\\%) "
   ]
  },
  {
   "cell_type": "code",
   "execution_count": 29,
   "metadata": {
    "collapsed": false,
    "deletable": true,
    "editable": true
   },
   "outputs": [
    {
     "name": "stdout",
     "output_type": "stream",
     "text": [
      "test data items: 290, correct:246\n",
      "testing accuracy 84.8%\n"
     ]
    }
   ],
   "source": [
    "# Test the model created previously on another directory\n",
    "def testModel(model,f_wcL_RDD,N):\n",
    "    testData=make_lp_RDD(f_wcL_RDD, N)     #<<< like with trainModel, transform the data and evaluate it.\n",
    "    predict=testData.map(lambda x: (x.label, model.predict(x.features)))\n",
    "    correct=predict.filter(lambda lp: lp[0]==lp[1]).count()\n",
    "    accuracy = correct / predict.count()\n",
    "\n",
    "    print('test data items: {}, correct:{}'.format(predict.count(),correct))\n",
    "    print('testing accuracy {:.1%}'.format(accuracy))\n",
    "\n",
    "testModel(model,make_f_tfLn_RDD('hdfs://saltdean/data/spam/stop/part10'),N) # for testing"
   ]
  },
  {
   "cell_type": "markdown",
   "metadata": {
    "deletable": true,
    "editable": true
   },
   "source": [
    "## Task h) Run experiments \n",
    "\n",
    "Package the whole classifier training and evaluation in one function. Then apply it to the files from `/data/extra/spam/lemm`, `/data/extra/spam/stop` and `/data/extra/spam/lemm_stop` in addition to `/data/extra/spam/bare`  and evaluate the accuracy of your classifier. \n",
    "\n",
    "Comment on the effect of *lemmatisation* and *stopword removal* on classification accuracy. Further, evaluate the use of larger training sets and the effect of different vector sizes. Print out the results of your experiments in readable form. (20%) \n",
    "\n",
    "You need to create one small fuction that combines tasks f) and g), and then apply it to different datasets sizes, vector sizes, and different preprocessings. \n",
    "\n",
    "The combination of the part1-part9 datasets can be achieved by using 'glob' patterns in the filename ('part[1-9]'). This is a feature of the Hadoop filesystem and not well documented in Spark (or anywhere else). You can find a description of its Python implementation here: [https://docs.python.org/3/library/glob.html](https://docs.python.org/3/library/glob.html). You can also supply multiple comma-separated paths, but you'll need to test what works, when you use this feature. Recursive patterns don't seem to work.\n",
    "\n",
    "Alternatively, you can create unions of RDDs for each part. However, this seems to lead to slower execution. With the latter, it is useful to created arrays of the directory names (part1, ...). When you work with unions, it may be useful to start with an empty RDD. That can be created with `sc.parallelize([])`.\n",
    "\n",
    "A useful tool for creatng multiple long paths variants is the use of the Python string format() method as used below. There is a good set of example here: [https://docs.python.org/3/library/string.html#format-examples](https://docs.python.org/3/library/string.html#format-examples) and the specification is here: [https://docs.python.org/3/library/string.html#format-specification-mini-language](https://docs.python.org/3/library/string.html#format-specification-mini-language).\n"
   ]
  },
  {
   "cell_type": "code",
   "execution_count": null,
   "metadata": {
    "collapsed": false,
    "deletable": true,
    "editable": true
   },
   "outputs": [
    {
     "name": "stdout",
     "output_type": "stream",
     "text": [
      "EXPERIMENT 1: Testing different training set sizes\n",
      "Path = hdfs://saltdean/data/spam/bare/part[1-{}], N = 100\n",
      "hdfs://saltdean/data/spam/bare/part[1-1]\n",
      "training data items: 290, correct: 290\n",
      "training accuracy 100.0%\n",
      "test data items: 290, correct:290\n",
      "testing accuracy 100.0%\n",
      "hdfs://saltdean/data/spam/bare/part[1-2]\n",
      "training data items: 290, correct: 290\n",
      "training accuracy 100.0%\n",
      "test data items: 290, correct:290\n",
      "testing accuracy 100.0%\n",
      "hdfs://saltdean/data/spam/bare/part[1-3]\n",
      "training data items: 290, correct: 290\n",
      "training accuracy 100.0%\n",
      "test data items: 290, correct:290\n",
      "testing accuracy 100.0%\n",
      "hdfs://saltdean/data/spam/bare/part[1-4]\n",
      "training data items: 290, correct: 290\n",
      "training accuracy 100.0%\n",
      "test data items: 290, correct:290\n",
      "testing accuracy 100.0%\n",
      "hdfs://saltdean/data/spam/bare/part[1-5]\n",
      "training data items: 290, correct: 290\n",
      "training accuracy 100.0%\n",
      "test data items: 290, correct:290\n",
      "testing accuracy 100.0%\n",
      "hdfs://saltdean/data/spam/bare/part[1-6]\n",
      "training data items: 290, correct: 290\n",
      "training accuracy 100.0%\n",
      "test data items: 290, correct:290\n",
      "testing accuracy 100.0%\n",
      "hdfs://saltdean/data/spam/bare/part[1-7]\n",
      "training data items: 290, correct: 290\n",
      "training accuracy 100.0%\n",
      "test data items: 290, correct:290\n",
      "testing accuracy 100.0%\n",
      "hdfs://saltdean/data/spam/bare/part[1-8]\n",
      "training data items: 290, correct: 290\n",
      "training accuracy 100.0%\n",
      "test data items: 290, correct:290\n",
      "testing accuracy 100.0%\n",
      "hdfs://saltdean/data/spam/bare/part[1-9]\n",
      "training data items: 290, correct: 290\n",
      "training accuracy 100.0%\n",
      "test data items: 290, correct:290\n",
      "testing accuracy 100.0%\n",
      "\n",
      "EXPERIMENT 2: Testing different vector sizes\n",
      "=== N =  3\n",
      "training data items: 290, correct: 290\n",
      "training accuracy 100.0%\n",
      "test data items: 290, correct:290\n",
      "testing accuracy 100.0%\n",
      "=== N =  10\n",
      "training data items: 290, correct: 290\n",
      "training accuracy 100.0%\n",
      "test data items: 290, correct:290\n",
      "testing accuracy 100.0%\n",
      "=== N =  30\n",
      "training data items: 290, correct: 290\n",
      "training accuracy 100.0%\n",
      "test data items: 290, correct:290\n",
      "testing accuracy 100.0%\n",
      "=== N =  100\n",
      "training data items: 290, correct: 290\n",
      "training accuracy 100.0%\n",
      "test data items: 290, correct:290\n",
      "testing accuracy 100.0%\n",
      "=== N =  300\n",
      "training data items: 290, correct: 290\n",
      "training accuracy 100.0%\n",
      "test data items: 290, correct:290\n",
      "testing accuracy 100.0%\n",
      "\n",
      "EXPERIMENT 3: Testing differently preprocessed data sets\n",
      "training on parts 1-9, N = 100\n",
      "===  Stopwords removed\n",
      "/data/tempstore/spam/stop/part[1-9]\n",
      "training data items: 290, correct: 290\n",
      "training accuracy 100.0%\n",
      "test data items: 290, correct:290\n",
      "testing accuracy 100.0%\n",
      "===  Lemmatised\n",
      "/data/tempstore/spam/lemm/part[1-9]\n"
     ]
    }
   ],
   "source": [
    "# this function combines tasks f) and g)\n",
    "def trainTestModel(trainPaths,testPath,N):\n",
    "    \n",
    "   model = trainModel(make_f_tfLn_RDD(trainPaths),N)  #<<< just combine training ans testing here \n",
    "   testModel(model,make_f_tfLn_RDD(testPath),N)   \n",
    "   return model\n",
    "   \n",
    "   \n",
    "# prepare the part directories and the path\n",
    "dirPattern = 'hdfs://saltdean/data/spam/bare/part[1-{}]' # the {} can be filled by 'dirPattern.format(i)' \n",
    "testPath = 'hdfs://saltdean/data/spam/bare/part10'\n",
    "print('EXPERIMENT 1: Testing different training set sizes')\n",
    "print('Path = {}, N = {}'.format(dirPattern,N)) # using format to make sure we record the parameters of the experiment\n",
    "#<<< make the test set, it will be constant for this experiment\n",
    "#<<< loop over i the number of parts for training (1-9)\n",
    "for i in range(1,10):\n",
    "   trainPaths = dirPattern.format(i) # in the loop you can create a path like this\n",
    "   print(trainPaths) #just for testing, remove later\n",
    "   #<<< create the trainRDD (using your make_f_tfLn_RDD method)\n",
    "   trainTestModel(trainPaths,testPath,N)\n",
    "print('\\nEXPERIMENT 2: Testing different vector sizes')\n",
    "# #<<< loop over different values for N. 3,10,30,100,300, ... is a good pattern\n",
    "new_N=[3,10,30,100,300,1000]\n",
    "for i in range(0,5):\n",
    "   print('=== N = ',new_N[i])\n",
    "   trainTestModel(trainPaths,testPath,new_N[i])\n",
    "# change to what you feel is a good compromise between computation and accuracy\n",
    "# # the dictionary below helps associate description and paths.\n",
    "setDict = {'No preprocessing': prefix + 'spam/bare/',\n",
    "           'Stopwords removed': prefix + 'spam/stop/',\n",
    "           'Lemmatised': prefix + 'spam/lemm/',\n",
    "           'Lemmatised and stopwords removed': prefix + 'spam/lemm_stop/'}\n",
    "print('\\nEXPERIMENT 3: Testing differently preprocessed data sets')\n",
    "print('training on parts 1-9, N = {}'.format(N))\n",
    "testPath = 'hdfs://saltdean/data/spam/bare/part10'\n",
    "for sp in setDict:\n",
    "   print('=== ',sp)\n",
    "   trainPaths = setDict[sp] + 'part[1-9]'\n",
    "#     #<<< make the test (part1-9) and training data (part10) RDDs and evaluate \n",
    "   print(trainPaths) #just for testing, remove later\n",
    "   #<<< create the trainRDD (using your make_f_tfLn_RDD method)\n",
    "   trainTestModel(trainPaths,testPath,N)\n",
    "print('\\n====== Done ======')"
   ]
  },
  {
   "cell_type": "raw",
   "metadata": {
    "deletable": true,
    "editable": true
   },
   "source": [
    "Here's an exampe what the output could look like\n",
    "\n",
    "Experiment 1: Testing differddent training set sizes\n",
    "Path = hdfs://saltdean/data/spam/lemm_stop/, N = 1000\n",
    "=== add part  1\n",
    "training data items: 289, correct: 289\n",
    "training accuracy 100.0%\n",
    "test data items: 291, correct:270\n",
    "testing accuracy 92.8%\n",
    "=== add part  2\n",
    ".\n",
    ".\n",
    ".\n",
    "=== add part  9\n",
    "training data items: 2602, correct: 2602\n",
    "training accuracy 100.0%\n",
    "test data items: 291, correct:285\n",
    "testing accuracy 97.9%\n",
    "\n",
    "Experiment 2: Testing different vector sizes\n",
    "Path = hdfs://saltdean/data/spam/lemm_stop/, training on parts1-9\n",
    "=== N =  3\n",
    "training data items: 2602, correct: 2171\n",
    "training accuracy 83.4%\n",
    "test data items: 291, correct:237\n",
    "testing accuracy 81.4%\n",
    "=== N =  10\n",
    ".\n",
    ".\n",
    ".\n",
    "=== N =  10000\n",
    "training data items: 2602, correct: 2602\n",
    "training accuracy 100.0%\n",
    "test data items: 291, correct:284\n",
    "testing accuracy 97.6%\n",
    "\n",
    "Experiment 3: Testing differently processed data sets\n",
    "training on parts 1-9, N = 100\n",
    "===  No proprocessing\n",
    ".\n",
    ".\n",
    ".\n",
    "====== Done ======"
   ]
  },
  {
   "cell_type": "markdown",
   "metadata": {
    "collapsed": true,
    "deletable": true,
    "editable": true
   },
   "source": [
    "## Task i) (Task for pairs) TF.IDF vectors\n",
    "You need to address this task if you are working as a pair. \n",
    "\n",
    "Calculate the IDF values for each word and generate fixed size TF.IDF vectors for each document (word frequencies still normalised by total document word count). Also evaluate the use of TF.IDF compared to normalised word counts in terms of accuracy. (25%)\n",
    "\n",
    "To calculate the IDF values you need to create an RDD (w,f) pairs. You can use the function `RDD.distinct()` to remove duplicates and reorganise to create (w,[f, ...]) lists. The length of the list is the document frequency and can be used to calculate the IDF.\n",
    "\n",
    "\n",
    "\n"
   ]
  },
  {
   "cell_type": "code",
   "execution_count": null,
   "metadata": {
    "collapsed": false,
    "deletable": true,
    "editable": true
   },
   "outputs": [],
   "source": [
    "from operator import add\n",
    "from math import log\n",
    "\n",
    "trainPath = 'hdfs://saltdean.nsqdc.city.ac.uk./data/spam/lemm_stop/part[1-9]'\n",
    "testPath = 'hdfs://saltdean.nsqdc.city.ac.uk./data/spam/lemm_stop/part10'\n",
    "\n",
    "def make_f_wtfiL_RDD(path):\n",
    "    # Calculuate the IDFs\n",
    "    fw_RDD = read_fw_RDD(path)\n",
    "    #<<< keep only unique (f,w) pairs\n",
    "    #<<< (f,w) -> (w,[f])\n",
    "    #<<< join the lists of files with reduceByKey\n",
    "    vocSize = wfL_RDD.count() # calculate the vocabulary size\n",
    "    print('vocSize: {}'.format(vocSize)) \n",
    "    # calculate the IDF values per word by using len() on the list of files\n",
    "    print('wIdf_RDD.count(): ',wIdf_RDD.count()) # for testing\n",
    "    print(wIdf_RDD.take(2)) # for testing\n",
    "\n",
    "    # Get the normalise word counts (TFs) and organise by word (w,(f,cn))\n",
    "    f_wcLn_RDD = make_f_wcLn_RDD(path) # create the normalised word count lists \n",
    "    #print('f_wcLn_RDD: ',f_wcLn_RDD.map(\n",
    "    #        lambda x: sum([c for (w,c) in x[1]]).histogram([0,10,100,1000,10000]))) # check for the per-file word counts\n",
    "    #<<<< create a list of tuples [(w,(f,cn)), ..] and use flatmap \n",
    "    print('w_fcn_RDD.count(): {}'.format(w_fcn_RDD.count())) # for testing\n",
    "    print(w_fcn_RDD.take(2)) # for testing\n",
    "\n",
    "    # now we can join the IFDs and TFs by the words (w,(f,cn)) join (w,idf) to (w,((f,cn),idf))\n",
    "    #<<< use RDD.join()\n",
    "    print( 'w_fcnIdf_RDD.count(): ', w_fcnIdf_RDD.count())\n",
    "    print( w_fcnIdf_RDD.take(2))\n",
    "\n",
    "    # we have doubly nested tuples (w,((f,cn),idf)) in the RDD, \n",
    "    # but they let us calculate the TF.IDF per file and word (f,[(w,cn*idf)]).\n",
    "    #<<<< map to (f,[(w,cn*idf)])\n",
    "    print('f_wtfiL_RDD.count()', f_wtfiL_RDD.count())\n",
    "    print(str(f_wtfiL_RDD.take(2)))\n",
    "\n",
    "    # with that we can reduce by key (files) to get [(w,tfidf), ...] lists per file.\n",
    "    #<<< reduceByKey\n",
    "    print('# of files with TF.IDF vectors: {}'.format(f_wtfiL2_RDD.count()))\n",
    "    print(f_wtfiL2_RDD.take(2)))\n",
    "\n",
    "    return f_wtfiL2_RDD\n",
    "\n",
    "\n",
    "N=100 # choose a value yourself \n",
    "print('N: {}, trainPath: {}'.format(N,trainPath))\n",
    "#<<< you can now apply trainModel and test Model to RDDs created with make_f_wtfiL_RDD()"
   ]
  }
 ],
 "metadata": {
  "kernelspec": {
   "display_name": "PySpark",
   "language": "python",
   "name": "pyspark"
  },
  "language_info": {
   "codemirror_mode": {
    "name": "ipython",
    "version": 3
   },
   "file_extension": ".py",
   "mimetype": "text/x-python",
   "name": "python",
   "nbconvert_exporter": "python",
   "pygments_lexer": "ipython3",
   "version": "3.5.2"
  }
 },
 "nbformat": 4,
 "nbformat_minor": 1
}
